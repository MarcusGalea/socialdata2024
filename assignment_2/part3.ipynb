{
 "cells": [
  {
   "cell_type": "code",
   "execution_count": 26,
   "metadata": {},
   "outputs": [],
   "source": [
    "#preamble\n",
    "import os\n",
    "import pandas as pd\n",
    "import datetime as dt\n",
    "from bokeh.models import FactorRange,Legend, LegendItem,ColumnDataSource\n",
    "from bokeh.plotting import figure\n",
    "from bokeh.palettes import Category20\n",
    "\n",
    "\n",
    "#get current working directory\n",
    "cwd = os.getcwd()\n",
    "#get parent directory\n",
    "parent = os.path.dirname(cwd)\n",
    "#get files directory\n",
    "files = os.path.join(parent, 'files')\n",
    "#get police department data as pandas dataframe\n",
    "police = pd.read_csv(os.path.join(files, 'Police_Department_Incident_Reports__Historical_2003_to_May_2018_20240130.csv'))\n",
    "\n",
    "#take the data from 2010 to 2017\n",
    "police['Date'] = pd.to_datetime(police['Date'])\n",
    "#police = police[(police['Date'].dt.year >= 2010) & (police['Date'].dt.year <= 2017)]\n",
    "police['Hour'] = police['Time'].str.split(':').str[0]\n",
    "\n"
   ]
  },
  {
   "cell_type": "code",
   "execution_count": 7,
   "metadata": {},
   "outputs": [],
   "source": [
    "#assault data\n",
    "assault = police[police['Category'] == 'ASSAULT']\n",
    "#get the 13 most common assault types\n",
    "assault_types = assault['Descript'].value_counts().head(13).index"
   ]
  },
  {
   "cell_type": "code",
   "execution_count": 69,
   "metadata": {},
   "outputs": [],
   "source": [
    "crimes_by_hour = assault.groupby(['Hour', 'Descript']).size().unstack().fillna(0)\n",
    "#only include the 13 most common assault types\n",
    "crimes_by_hour = crimes_by_hour[assault_types]\n",
    "\n",
    "crimes_by_hour.index.name = None\n",
    "#get all unique hours from the data\n",
    "hours = crimes_by_hour.index.values\n",
    "categories = crimes_by_hour.columns.values\n",
    "#divide each cell by the sum of the column\n",
    "crimes_by_hour = crimes_by_hour.div(crimes_by_hour.sum(axis=0),axis=1)\n"
   ]
  },
  {
   "cell_type": "code",
   "execution_count": 77,
   "metadata": {},
   "outputs": [],
   "source": [
    "#get boke figure\n",
    "#get boke column data source\n",
    "source = ColumnDataSource(crimes_by_hour)\n",
    "p = figure(x_range=FactorRange(factors = [hour for hour in hours]),\n",
    "           title=\"Number of Incidents by Hour\", width=1200, height=800)\n",
    "\n",
    "\n",
    "# Add these lines to set the axis labels\n",
    "p.xaxis.axis_label = 'Hour'\n",
    "p.yaxis.axis_label = 'Number of Incidents'\n",
    "colors = Category20[20]\n",
    "\n",
    "bar  ={}\n",
    "for i,category in enumerate(categories):\n",
    "    bar[i] = p.vbar(x='index', top=category, color=colors[i%20], source=source, width=0.9, muted_alpha=0.1, muted = True, alpha=1.0)\n",
    "\n",
    "# Create a list to hold the legend items\n",
    "legend_items = [LegendItem(label=category, renderers=[bar[i]]) for i, category in enumerate(categories)]\n",
    "\n",
    "# Create a new legend with the legend items\n",
    "legend = Legend(items=legend_items, location=\"top_left\")\n",
    "\n",
    "# Add the legend to the right of the plot\n",
    "p.add_layout(legend, 'right')\n",
    "p.legend.click_policy=\"mute\"\n",
    "#import show function\n",
    "from bokeh.io import show\n",
    "show(p)"
   ]
  }
 ],
 "metadata": {
  "kernelspec": {
   "display_name": "Python 3",
   "language": "python",
   "name": "python3"
  },
  "language_info": {
   "codemirror_mode": {
    "name": "ipython",
    "version": 3
   },
   "file_extension": ".py",
   "mimetype": "text/x-python",
   "name": "python",
   "nbconvert_exporter": "python",
   "pygments_lexer": "ipython3",
   "version": "3.11.8"
  }
 },
 "nbformat": 4,
 "nbformat_minor": 2
}
