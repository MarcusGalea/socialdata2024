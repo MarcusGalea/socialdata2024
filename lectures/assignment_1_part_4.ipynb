{
 "cells": [
  {
   "cell_type": "markdown",
   "metadata": {},
   "source": [
    "**A1 part 4**:\n",
    "- The temporal activity for `PROSTITUTION` shows a surprising pattern on a Thursday. Either there's a lot of prostitution going on in San Francisco on Thursdays, or there's something wrong with the data. It could be the case that reports done during the week were not registered until that day, or that the data was not properly recorded. It could also be the case that the same crime was reported several times. This leads to a bias in the data, and if not noticed, it could lead to misconceptions about the underlying patterns of prostitution during the week.\n",
    "- The jitter plot shows that many more crimes were recorded e.g. on the hour, 15 minutes past the hour, and to a lesser in whole increments of 10 minutes. Crimes didn't appear to be recorded as frequently in between those round numbers. It's a common human habit to round the time to the nearest 5 or 10 minutes, and this could lead to a bias in the data. If the exact time couldn't be recalled, then rounding to the nearest half or whole hour would be the most likely option. This habit of rounding the time leads to a bias in the data. Consequently, if we were to model the daily crime rate, our predictions would most likely pick up on the rounding pattern, and we wouldn't be able to accurately predict the crime occurences throughout the day.\n",
    "- The *Hall of Justice* on the 800 block of Bryant street seems to be an unlikely hotspot, since it's right next to the penetentiary. The most likely explanation of this error, is that sex offences were registered at the penetentiary, but the location was not properly recorded, so the penententiary was used as a default location. The bias in the data will be picked up by our visualization tools, so one could easily be misled to believe that the Hall of Justice is a hotspot for sex offences, if not noticed.\n",
    "- As shown in the heatmap in the following code, the most frequent reportings of sex offenses (non forcible) occour at the San Francisco General Hospital at Potrero Avenue. It is extremely unlikely that sex offenses would occur at a place like this, so similar to the first example, it's a result of reportings taking place at the hospital, some time after the actual incident. Consequently, one could be misled to believe that the hospital would be a hotspot for sex offenses, which could have serious consequences for model predictions. As an example, if we were to distribute police officers based on the crime reports, we would most likely distribute more officers to the hospital, which would be a waste of resources.\n",
    "- LLMs were used to help understanding the folium framework, to create the interactive maps aswell as the heatmaps."
   ]
  },
  {
   "cell_type": "code",
   "execution_count": 2,
   "metadata": {},
   "outputs": [],
   "source": [
    "import numpy as np\n",
    "import pandas as pd\n",
    "import folium\n",
    "from folium.plugins import HeatMap\n",
    "import os"
   ]
  },
  {
   "cell_type": "code",
   "execution_count": 9,
   "metadata": {},
   "outputs": [],
   "source": [
    "#get current working directory\n",
    "cwd = os.getcwd()\n",
    "#get parent directory\n",
    "parent = os.path.dirname(cwd)\n",
    "#get files directory\n",
    "files = os.path.join(parent, 'files')\n",
    "#get police department data as pandas dataframe\n",
    "police = pd.read_csv(os.path.join(files, 'Police_Department_Incident_Reports__Historical_2003_to_May_2018_20240130.csv'))\n",
    "police[\"Date\"] = pd.to_datetime(police[\"Date\"])\n"
   ]
  },
  {
   "cell_type": "code",
   "execution_count": 10,
   "metadata": {},
   "outputs": [],
   "source": [
    "#GET SAN FRANCISCO COORDINATES\n",
    "lat = 37.773972\n",
    "lon = -122.431297\n",
    "# create map and display it\n",
    "sanfran_map = folium.Map(location=[lat, lon], zoom_start=12)"
   ]
  },
  {
   "cell_type": "code",
   "execution_count": 11,
   "metadata": {},
   "outputs": [
    {
     "data": {
      "text/html": [
       "<div style=\"width:100%;\"><div style=\"position:relative;width:100%;height:0;padding-bottom:60%;\"><span style=\"color:#565656\">Make this Notebook Trusted to load map: File -> Trust Notebook</span><iframe srcdoc=\"&lt;!DOCTYPE html&gt;\n",
       "&lt;html&gt;\n",
       "&lt;head&gt;\n",
       "    \n",
       "    &lt;meta http-equiv=&quot;content-type&quot; content=&quot;text/html; charset=UTF-8&quot; /&gt;\n",
       "    \n",
       "        &lt;script&gt;\n",
       "            L_NO_TOUCH = false;\n",
       "            L_DISABLE_3D = false;\n",
       "        &lt;/script&gt;\n",
       "    \n",
       "    &lt;style&gt;html, body {width: 100%;height: 100%;margin: 0;padding: 0;}&lt;/style&gt;\n",
       "    &lt;style&gt;#map {position:absolute;top:0;bottom:0;right:0;left:0;}&lt;/style&gt;\n",
       "    &lt;script src=&quot;https://cdn.jsdelivr.net/npm/leaflet@1.9.3/dist/leaflet.js&quot;&gt;&lt;/script&gt;\n",
       "    &lt;script src=&quot;https://code.jquery.com/jquery-3.7.1.min.js&quot;&gt;&lt;/script&gt;\n",
       "    &lt;script src=&quot;https://cdn.jsdelivr.net/npm/bootstrap@5.2.2/dist/js/bootstrap.bundle.min.js&quot;&gt;&lt;/script&gt;\n",
       "    &lt;script src=&quot;https://cdnjs.cloudflare.com/ajax/libs/Leaflet.awesome-markers/2.0.2/leaflet.awesome-markers.js&quot;&gt;&lt;/script&gt;\n",
       "    &lt;link rel=&quot;stylesheet&quot; href=&quot;https://cdn.jsdelivr.net/npm/leaflet@1.9.3/dist/leaflet.css&quot;/&gt;\n",
       "    &lt;link rel=&quot;stylesheet&quot; href=&quot;https://cdn.jsdelivr.net/npm/bootstrap@5.2.2/dist/css/bootstrap.min.css&quot;/&gt;\n",
       "    &lt;link rel=&quot;stylesheet&quot; href=&quot;https://netdna.bootstrapcdn.com/bootstrap/3.0.0/css/bootstrap.min.css&quot;/&gt;\n",
       "    &lt;link rel=&quot;stylesheet&quot; href=&quot;https://cdn.jsdelivr.net/npm/@fortawesome/fontawesome-free@6.2.0/css/all.min.css&quot;/&gt;\n",
       "    &lt;link rel=&quot;stylesheet&quot; href=&quot;https://cdnjs.cloudflare.com/ajax/libs/Leaflet.awesome-markers/2.0.2/leaflet.awesome-markers.css&quot;/&gt;\n",
       "    &lt;link rel=&quot;stylesheet&quot; href=&quot;https://cdn.jsdelivr.net/gh/python-visualization/folium/folium/templates/leaflet.awesome.rotate.min.css&quot;/&gt;\n",
       "    \n",
       "            &lt;meta name=&quot;viewport&quot; content=&quot;width=device-width,\n",
       "                initial-scale=1.0, maximum-scale=1.0, user-scalable=no&quot; /&gt;\n",
       "            &lt;style&gt;\n",
       "                #map_d3cb8949139401c89a9ed9cf8a353136 {\n",
       "                    position: relative;\n",
       "                    width: 100.0%;\n",
       "                    height: 100.0%;\n",
       "                    left: 0.0%;\n",
       "                    top: 0.0%;\n",
       "                }\n",
       "                .leaflet-container { font-size: 1rem; }\n",
       "            &lt;/style&gt;\n",
       "        \n",
       "    &lt;script src=&quot;https://cdn.jsdelivr.net/gh/python-visualization/folium@main/folium/templates/leaflet_heat.min.js&quot;&gt;&lt;/script&gt;\n",
       "&lt;/head&gt;\n",
       "&lt;body&gt;\n",
       "    \n",
       "    \n",
       "            &lt;div class=&quot;folium-map&quot; id=&quot;map_d3cb8949139401c89a9ed9cf8a353136&quot; &gt;&lt;/div&gt;\n",
       "        \n",
       "&lt;/body&gt;\n",
       "&lt;script&gt;\n",
       "    \n",
       "    \n",
       "            var map_d3cb8949139401c89a9ed9cf8a353136 = L.map(\n",
       "                &quot;map_d3cb8949139401c89a9ed9cf8a353136&quot;,\n",
       "                {\n",
       "                    center: [37.773972, -122.431297],\n",
       "                    crs: L.CRS.EPSG3857,\n",
       "                    zoom: 12,\n",
       "                    zoomControl: true,\n",
       "                    preferCanvas: false,\n",
       "                }\n",
       "            );\n",
       "\n",
       "            \n",
       "\n",
       "        \n",
       "    \n",
       "            var tile_layer_f021ecd814314433fda306a103ac1921 = L.tileLayer(\n",
       "                &quot;https://tile.openstreetmap.org/{z}/{x}/{y}.png&quot;,\n",
       "                {&quot;attribution&quot;: &quot;\\u0026copy; \\u003ca href=\\&quot;https://www.openstreetmap.org/copyright\\&quot;\\u003eOpenStreetMap\\u003c/a\\u003e contributors&quot;, &quot;detectRetina&quot;: false, &quot;maxNativeZoom&quot;: 19, &quot;maxZoom&quot;: 19, &quot;minZoom&quot;: 0, &quot;noWrap&quot;: false, &quot;opacity&quot;: 1, &quot;subdomains&quot;: &quot;abc&quot;, &quot;tms&quot;: false}\n",
       "            );\n",
       "        \n",
       "    \n",
       "            tile_layer_f021ecd814314433fda306a103ac1921.addTo(map_d3cb8949139401c89a9ed9cf8a353136);\n",
       "        \n",
       "    \n",
       "            var heat_map_4b3aa553eb6c66cce0df13bfb93b8138 = L.heatLayer(\n",
       "                [[37.7834206344523, -122.444518269835], [37.7865686524807, -122.452608514061], [37.7764944808779, -122.411359138357], [37.7895952774322, -122.417044292614], [37.7198785524783, -122.390922553406], [37.729203356539, -122.374019331833], [37.7564864109309, -122.406539115148], [37.7256287274831, -122.432483319531], [37.7279208527818, -122.383679778616], [37.7317517267808, -122.474766628887], [37.7105489299111, -122.440924398922], [37.7762310404758, -122.414714295579], [37.7564864109309, -122.406539115148], [37.7757939825283, -122.496802884637], [37.7256933575703, -122.452289660492], [37.7904817874179, -122.432543133147], [37.7556306137644, -122.465655683424], [37.746224292878, -122.431437413776], [37.7826435280939, -122.443597047511], [37.78731205664, -122.421885585728], [37.790897082336, -122.433177215492], [37.7819576968518, -122.464419776602], [37.78035221568935, -122.43709942832018], [37.76816943461751, -122.435637436721], [37.77150820644029, -122.4497839054318], [37.7902802865906, -122.414916875484], [37.7741190407726, -122.440949589926], [37.7564864109309, -122.406539115148], [37.7375250948447, -122.389601286255], [37.7898812870744, -122.418028132982], [37.7849141859562, -122.411965795229], [37.7479994493226, -122.420832650303], [37.7571580431915, -122.406604919508], [37.728489252473, -122.429969905093], [37.7775607137405, -122.411118243435], [37.7881906054546, -122.418580508889], [37.7564864109309, -122.406539115148], [37.766106166254, -122.415452778821], [37.75702872804, -122.476469914829], [37.7301576924252, -122.375989158092], [37.775420706711, -122.403404791479], [37.78195769685184, -122.46441977660236], [37.78500750399297, -122.41872960055726]],\n",
       "                {&quot;blur&quot;: 15, &quot;maxZoom&quot;: 18, &quot;minOpacity&quot;: 0.5, &quot;radius&quot;: 25}\n",
       "            );\n",
       "        \n",
       "    \n",
       "            heat_map_4b3aa553eb6c66cce0df13bfb93b8138.addTo(map_d3cb8949139401c89a9ed9cf8a353136);\n",
       "        \n",
       "&lt;/script&gt;\n",
       "&lt;/html&gt;\" style=\"position:absolute;width:100%;height:100%;left:0;top:0;border:none !important;\" allowfullscreen webkitallowfullscreen mozallowfullscreen></iframe></div></div>"
      ],
      "text/plain": [
       "<folium.folium.Map at 0x2007e404c10>"
      ]
     },
     "execution_count": 11,
     "metadata": {},
     "output_type": "execute_result"
    }
   ],
   "source": [
    "#Get all instances of SEX OFFENSES, NON FORCIBLE across all years\n",
    "sex_crime = police[police['Category'] == 'SEX OFFENSES, NON FORCIBLE']\n",
    "\n",
    "heat_data = list(zip(sex_crime['Y'],sex_crime['X']))\n",
    "HeatMap(heat_data).add_to(sanfran_map)\n",
    "sanfran_map"
   ]
  }
 ],
 "metadata": {
  "kernelspec": {
   "display_name": "Python 3",
   "language": "python",
   "name": "python3"
  },
  "language_info": {
   "codemirror_mode": {
    "name": "ipython",
    "version": 3
   },
   "file_extension": ".py",
   "mimetype": "text/x-python",
   "name": "python",
   "nbconvert_exporter": "python",
   "pygments_lexer": "ipython3",
   "version": "3.11.8"
  }
 },
 "nbformat": 4,
 "nbformat_minor": 2
}
